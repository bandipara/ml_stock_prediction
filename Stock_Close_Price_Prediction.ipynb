{
 "cells": [
  {
   "cell_type": "markdown",
   "metadata": {},
   "source": [
    "# Description: This program uses an artificial recurrent neural network called Long Short Term Memory(LSTM) to predict the closing stock price using past 60 day stock price."
   ]
  },
  {
   "cell_type": "code",
   "execution_count": 1,
   "metadata": {
    "scrolled": true
   },
   "outputs": [
    {
     "name": "stderr",
     "output_type": "stream",
     "text": [
      "C:\\Users\\bandi\\.conda\\envs\\pythonml\\lib\\site-packages\\pandas_datareader\\compat\\__init__.py:7: FutureWarning: pandas.util.testing is deprecated. Use the functions in the public API at pandas.testing instead.\n",
      "  from pandas.util.testing import assert_frame_equal\n",
      "Using TensorFlow backend.\n"
     ]
    }
   ],
   "source": [
    "import math\n",
    "import numpy as np\n",
    "import pandas as pd\n",
    "import pandas_datareader as web\n",
    "from sklearn.preprocessing import MinMaxScaler\n",
    "from keras.models import Sequential\n",
    "from keras.layers import Dense, LSTM\n",
    "import matplotlib.pyplot as plt\n",
    "from datetime import date\n",
    "plt.style.use('fivethirtyeight')"
   ]
  },
  {
   "cell_type": "code",
   "execution_count": 2,
   "metadata": {},
   "outputs": [],
   "source": [
    "ticker = 'AAPL'"
   ]
  },
  {
   "cell_type": "code",
   "execution_count": 3,
   "metadata": {},
   "outputs": [
    {
     "data": {
      "text/html": [
       "<div>\n",
       "<style scoped>\n",
       "    .dataframe tbody tr th:only-of-type {\n",
       "        vertical-align: middle;\n",
       "    }\n",
       "\n",
       "    .dataframe tbody tr th {\n",
       "        vertical-align: top;\n",
       "    }\n",
       "\n",
       "    .dataframe thead th {\n",
       "        text-align: right;\n",
       "    }\n",
       "</style>\n",
       "<table border=\"1\" class=\"dataframe\">\n",
       "  <thead>\n",
       "    <tr style=\"text-align: right;\">\n",
       "      <th></th>\n",
       "      <th>High</th>\n",
       "      <th>Low</th>\n",
       "      <th>Open</th>\n",
       "      <th>Close</th>\n",
       "      <th>Volume</th>\n",
       "      <th>Adj Close</th>\n",
       "    </tr>\n",
       "    <tr>\n",
       "      <th>Date</th>\n",
       "      <th></th>\n",
       "      <th></th>\n",
       "      <th></th>\n",
       "      <th></th>\n",
       "      <th></th>\n",
       "      <th></th>\n",
       "    </tr>\n",
       "  </thead>\n",
       "  <tbody>\n",
       "    <tr>\n",
       "      <th>2012-01-03</th>\n",
       "      <td>58.928570</td>\n",
       "      <td>58.428570</td>\n",
       "      <td>58.485714</td>\n",
       "      <td>58.747143</td>\n",
       "      <td>75555200.0</td>\n",
       "      <td>50.857235</td>\n",
       "    </tr>\n",
       "    <tr>\n",
       "      <th>2012-01-04</th>\n",
       "      <td>59.240002</td>\n",
       "      <td>58.468571</td>\n",
       "      <td>58.571430</td>\n",
       "      <td>59.062859</td>\n",
       "      <td>65005500.0</td>\n",
       "      <td>51.130558</td>\n",
       "    </tr>\n",
       "    <tr>\n",
       "      <th>2012-01-05</th>\n",
       "      <td>59.792858</td>\n",
       "      <td>58.952858</td>\n",
       "      <td>59.278572</td>\n",
       "      <td>59.718571</td>\n",
       "      <td>67817400.0</td>\n",
       "      <td>51.698215</td>\n",
       "    </tr>\n",
       "    <tr>\n",
       "      <th>2012-01-06</th>\n",
       "      <td>60.392857</td>\n",
       "      <td>59.888573</td>\n",
       "      <td>59.967144</td>\n",
       "      <td>60.342857</td>\n",
       "      <td>79573200.0</td>\n",
       "      <td>52.238651</td>\n",
       "    </tr>\n",
       "    <tr>\n",
       "      <th>2012-01-09</th>\n",
       "      <td>61.107143</td>\n",
       "      <td>60.192856</td>\n",
       "      <td>60.785713</td>\n",
       "      <td>60.247143</td>\n",
       "      <td>98506100.0</td>\n",
       "      <td>52.155792</td>\n",
       "    </tr>\n",
       "    <tr>\n",
       "      <th>...</th>\n",
       "      <td>...</td>\n",
       "      <td>...</td>\n",
       "      <td>...</td>\n",
       "      <td>...</td>\n",
       "      <td>...</td>\n",
       "      <td>...</td>\n",
       "    </tr>\n",
       "    <tr>\n",
       "      <th>2020-06-10</th>\n",
       "      <td>354.769989</td>\n",
       "      <td>346.089996</td>\n",
       "      <td>347.899994</td>\n",
       "      <td>352.839996</td>\n",
       "      <td>41662900.0</td>\n",
       "      <td>352.839996</td>\n",
       "    </tr>\n",
       "    <tr>\n",
       "      <th>2020-06-11</th>\n",
       "      <td>351.059998</td>\n",
       "      <td>335.480011</td>\n",
       "      <td>349.309998</td>\n",
       "      <td>335.899994</td>\n",
       "      <td>50415600.0</td>\n",
       "      <td>335.899994</td>\n",
       "    </tr>\n",
       "    <tr>\n",
       "      <th>2020-06-12</th>\n",
       "      <td>347.799988</td>\n",
       "      <td>334.220001</td>\n",
       "      <td>344.720001</td>\n",
       "      <td>338.799988</td>\n",
       "      <td>50001500.0</td>\n",
       "      <td>338.799988</td>\n",
       "    </tr>\n",
       "    <tr>\n",
       "      <th>2020-06-15</th>\n",
       "      <td>345.679993</td>\n",
       "      <td>332.579987</td>\n",
       "      <td>333.250000</td>\n",
       "      <td>342.989990</td>\n",
       "      <td>34702200.0</td>\n",
       "      <td>342.989990</td>\n",
       "    </tr>\n",
       "    <tr>\n",
       "      <th>2020-06-16</th>\n",
       "      <td>353.200012</td>\n",
       "      <td>344.720001</td>\n",
       "      <td>351.459991</td>\n",
       "      <td>352.079987</td>\n",
       "      <td>41276300.0</td>\n",
       "      <td>352.079987</td>\n",
       "    </tr>\n",
       "  </tbody>\n",
       "</table>\n",
       "<p>2127 rows × 6 columns</p>\n",
       "</div>"
      ],
      "text/plain": [
       "                  High         Low        Open       Close      Volume  \\\n",
       "Date                                                                     \n",
       "2012-01-03   58.928570   58.428570   58.485714   58.747143  75555200.0   \n",
       "2012-01-04   59.240002   58.468571   58.571430   59.062859  65005500.0   \n",
       "2012-01-05   59.792858   58.952858   59.278572   59.718571  67817400.0   \n",
       "2012-01-06   60.392857   59.888573   59.967144   60.342857  79573200.0   \n",
       "2012-01-09   61.107143   60.192856   60.785713   60.247143  98506100.0   \n",
       "...                ...         ...         ...         ...         ...   \n",
       "2020-06-10  354.769989  346.089996  347.899994  352.839996  41662900.0   \n",
       "2020-06-11  351.059998  335.480011  349.309998  335.899994  50415600.0   \n",
       "2020-06-12  347.799988  334.220001  344.720001  338.799988  50001500.0   \n",
       "2020-06-15  345.679993  332.579987  333.250000  342.989990  34702200.0   \n",
       "2020-06-16  353.200012  344.720001  351.459991  352.079987  41276300.0   \n",
       "\n",
       "             Adj Close  \n",
       "Date                    \n",
       "2012-01-03   50.857235  \n",
       "2012-01-04   51.130558  \n",
       "2012-01-05   51.698215  \n",
       "2012-01-06   52.238651  \n",
       "2012-01-09   52.155792  \n",
       "...                ...  \n",
       "2020-06-10  352.839996  \n",
       "2020-06-11  335.899994  \n",
       "2020-06-12  338.799988  \n",
       "2020-06-15  342.989990  \n",
       "2020-06-16  352.079987  \n",
       "\n",
       "[2127 rows x 6 columns]"
      ]
     },
     "execution_count": 3,
     "metadata": {},
     "output_type": "execute_result"
    }
   ],
   "source": [
    "#Get stock quote\n",
    "\n",
    "df=web.DataReader(ticker, data_source='yahoo', start='2012-01-01', end=date.today())    #YYYY-MM-DD\n",
    "df"
   ]
  },
  {
   "cell_type": "code",
   "execution_count": 4,
   "metadata": {},
   "outputs": [
    {
     "data": {
      "text/plain": [
       "(2127, 6)"
      ]
     },
     "execution_count": 4,
     "metadata": {},
     "output_type": "execute_result"
    }
   ],
   "source": [
    "df.shape"
   ]
  },
  {
   "cell_type": "code",
   "execution_count": 5,
   "metadata": {},
   "outputs": [
    {
     "data": {
      "image/png": "[encoded data removed]",
      "text/plain": [
       "<Figure size 1152x576 with 1 Axes>"
      ]
     },
     "metadata": {},
     "output_type": "display_data"
    }
   ],
   "source": [
    "plt.figure(figsize=(16,8))\n",
    "plt.title('Closing Price')\n",
    "plt.plot(df['Close'])\n",
    "plt.xlabel('Date', fontsize=18)\n",
    "plt.ylabel('Close Price USD ($)', fontsize=18)\n",
    "plt.show()"
   ]
  },
  {
   "cell_type": "code",
   "execution_count": 6,
   "metadata": {},
   "outputs": [
    {
     "data": {
      "text/plain": [
       "1702"
      ]
     },
     "execution_count": 6,
     "metadata": {},
     "output_type": "execute_result"
    }
   ],
   "source": [
    "data=df.filter(['Close'])\n",
    "\n",
    "#Convert to np array\n",
    "dataset=data.values\n",
    "\n",
    "#Get the number of rows to train the model on\n",
    "#math.ceil to round up \n",
    "\n",
    "training_data_len = math.ceil(len(dataset)*.8)\n",
    "\n",
    "\n",
    "#print(dataset)\n",
    "training_data_len"
   ]
  },
  {
   "cell_type": "code",
   "execution_count": 7,
   "metadata": {},
   "outputs": [
    {
     "data": {
      "text/plain": [
       "array([[0.00995503],\n",
       "       [0.01101787],\n",
       "       [0.01322528],\n",
       "       ...,\n",
       "       [0.9527352 ],\n",
       "       [0.96684058],\n",
       "       [0.99744148]])"
      ]
     },
     "execution_count": 7,
     "metadata": {},
     "output_type": "execute_result"
    }
   ],
   "source": [
    "#Scale the data\n",
    "\n",
    "scaler = MinMaxScaler(feature_range=(0,1))\n",
    "scaled_data = scaler.fit_transform(dataset)\n",
    "\n",
    "scaled_data"
   ]
  },
  {
   "cell_type": "code",
   "execution_count": 8,
   "metadata": {},
   "outputs": [
    {
     "name": "stdout",
     "output_type": "stream",
     "text": [
      "[array([0.00995503, 0.01101787, 0.01322528, 0.0153269 , 0.01500469,\n",
      "       0.01573087, 0.01539904, 0.01484117, 0.01408132, 0.01643302,\n",
      "       0.01855388, 0.01789982, 0.01431697, 0.01773631, 0.01436987,\n",
      "       0.02699401, 0.02601774, 0.02729218, 0.03004785, 0.03171663,\n",
      "       0.03157717, 0.03106259, 0.03325558, 0.03531872, 0.037656  ,\n",
      "       0.04143122, 0.04936158, 0.04948181, 0.05389666, 0.05719575,\n",
      "       0.0515257 , 0.05370909, 0.05366581, 0.05978792, 0.05891744,\n",
      "       0.06052852, 0.06342365, 0.06503475, 0.06967562, 0.07305649,\n",
      "       0.07403274, 0.07437421, 0.06859356, 0.06719888, 0.06740568,\n",
      "       0.07284006, 0.0743694 , 0.07765406, 0.08539688, 0.09572703,\n",
      "       0.09379373, 0.09379853, 0.10126722, 0.10360448, 0.1019405 ,\n",
      "       0.10042081, 0.09883858, 0.10409502, 0.10770193, 0.10921202])]\n",
      "[0.10548007307678448]\n",
      "\n"
     ]
    }
   ],
   "source": [
    "#Create training dataset\n",
    "#Create scaled training dataset\n",
    "\n",
    "train_data = scaled_data[0:training_data_len,:]\n",
    "\n",
    "#Split the data into x_train and y_train data set\n",
    "\n",
    "x_train=[]\n",
    "y_train=[]\n",
    "\n",
    "for i in range(60, len(train_data)):\n",
    "    x_train.append(train_data[i-60:i,0])\n",
    "    y_train.append(train_data[i,0])\n",
    "    if i<=60:\n",
    "        print(x_train)\n",
    "        print(y_train)\n",
    "        print()"
   ]
  },
  {
   "cell_type": "code",
   "execution_count": 9,
   "metadata": {},
   "outputs": [],
   "source": [
    "#convert the x_train and y_train to numpy arrays\n",
    "x_train, y_train = np.array(x_train), np.array(y_train)"
   ]
  },
  {
   "cell_type": "code",
   "execution_count": 10,
   "metadata": {},
   "outputs": [
    {
     "data": {
      "text/plain": [
       "(1642, 60, 1)"
      ]
     },
     "execution_count": 10,
     "metadata": {},
     "output_type": "execute_result"
    }
   ],
   "source": [
    "#Reshape the data into 3 dimensional\n",
    "x_train = np.reshape(x_train, (x_train.shape[0], x_train.shape[1], 1))\n",
    "x_train.shape"
   ]
  },
  {
   "cell_type": "code",
   "execution_count": 11,
   "metadata": {},
   "outputs": [],
   "source": [
    "#Build LSTM model\n",
    "model=Sequential()\n",
    "#Add first layer to model\n",
    "model.add(LSTM(50, return_sequences=True, input_shape=(x_train.shape[1],1)))\n",
    "#Add second layer to model\n",
    "model.add(LSTM(50, return_sequences=False))\n",
    "#Add Dense Layer to model with 25 neurons\n",
    "model.add(Dense(25))\n",
    "#Add Dense Layer to model with 1 neuron\n",
    "model.add(Dense(1))"
   ]
  },
  {
   "cell_type": "code",
   "execution_count": 12,
   "metadata": {},
   "outputs": [],
   "source": [
    "#Compile the model\n",
    "model.compile(optimizer='adam', loss='mean_squared_error')\n",
    "\n"
   ]
  },
  {
   "cell_type": "code",
   "execution_count": 13,
   "metadata": {},
   "outputs": [
    {
     "name": "stdout",
     "output_type": "stream",
     "text": [
      "Epoch 1/3\n",
      "1642/1642 [==============================] - 49s 30ms/step - loss: 5.6344e-04\n",
      "Epoch 2/3\n",
      "1642/1642 [==============================] - 49s 30ms/step - loss: 2.3566e-04\n",
      "Epoch 3/3\n",
      "1642/1642 [==============================] - 49s 30ms/step - loss: 1.6623e-04\n"
     ]
    },
    {
     "data": {
      "text/plain": [
       "<keras.callbacks.callbacks.History at 0x218db031048>"
      ]
     },
     "execution_count": 13,
     "metadata": {},
     "output_type": "execute_result"
    }
   ],
   "source": [
    "#Train the model\n",
    "model.fit(x_train, y_train, batch_size=1,epochs=3)"
   ]
  },
  {
   "cell_type": "code",
   "execution_count": 14,
   "metadata": {},
   "outputs": [],
   "source": [
    "#Create the test data set\n",
    "#Create a new array containing scaled values\n",
    "\n",
    "test_data=scaled_data[training_data_len-60: , : ]\n",
    "#Create the data sets x_test and y_test\n",
    "\n",
    "x_test=[]\n",
    "y_test=dataset[training_data_len:,:]\n",
    "for i in range(60, len(test_data)):\n",
    "    x_test.append(test_data[i-60:i,0])\n",
    "    \n"
   ]
  },
  {
   "cell_type": "code",
   "execution_count": 15,
   "metadata": {},
   "outputs": [],
   "source": [
    "#Convert the data to a numpy array\n",
    "\n",
    "x_test=np.array(x_test)\n"
   ]
  },
  {
   "cell_type": "code",
   "execution_count": 16,
   "metadata": {},
   "outputs": [],
   "source": [
    "#Reshape the data to 3d\n",
    "x_test=np.reshape(x_test,(x_test.shape[0], x_test.shape[1], 1))\n"
   ]
  },
  {
   "cell_type": "code",
   "execution_count": 17,
   "metadata": {},
   "outputs": [],
   "source": [
    "#Get the models predicted price values\n",
    "\n",
    "predictions=model.predict(x_test)\n",
    "predictions=scaler.inverse_transform(predictions)\n"
   ]
  },
  {
   "cell_type": "code",
   "execution_count": 18,
   "metadata": {},
   "outputs": [
    {
     "data": {
      "text/plain": [
       "7.068117891199448"
      ]
     },
     "execution_count": 18,
     "metadata": {},
     "output_type": "execute_result"
    }
   ],
   "source": [
    "#Get root mean squared error(RMSE)\n",
    "\n",
    "rmse =np.sqrt(np.mean(predictions-y_test)**2)\n",
    "rmse\n",
    "\n"
   ]
  },
  {
   "cell_type": "code",
   "execution_count": 19,
   "metadata": {
    "scrolled": true
   },
   "outputs": [
    {
     "name": "stderr",
     "output_type": "stream",
     "text": [
      "C:\\Users\\bandi\\.conda\\envs\\pythonml\\lib\\site-packages\\ipykernel_launcher.py:5: SettingWithCopyWarning: \n",
      "A value is trying to be set on a copy of a slice from a DataFrame.\n",
      "Try using .loc[row_indexer,col_indexer] = value instead\n",
      "\n",
      "See the caveats in the documentation: https://pandas.pydata.org/pandas-docs/stable/user_guide/indexing.html#returning-a-view-versus-a-copy\n",
      "  \"\"\"\n"
     ]
    },
    {
     "data": {
      "image/png": "[encoded data removed]",
      "text/plain": [
       "<Figure size 1152x576 with 1 Axes>"
      ]
     },
     "metadata": {},
     "output_type": "display_data"
    }
   ],
   "source": [
    "#plot the data\n",
    "\n",
    "train=data[:training_data_len]\n",
    "valid=data[training_data_len:]\n",
    "valid['predictions'] = predictions\n",
    "\n",
    "#Visualize the data\n",
    "plt.figure(figsize=(16,8))\n",
    "plt.title('Model')\n",
    "plt.xlabel('Date', fontsize=18)\n",
    "plt.ylabel('Close Price USD($)', fontsize=18)\n",
    "plt.plot(train['Close'])\n",
    "plt.plot(valid[['Close', 'predictions']])\n",
    "plt.legend(['Train','Validation', 'predictions'], loc='lower right')\n",
    "plt.savefig('Images/prediction.png')\n",
    "plt.show()"
   ]
  },
  {
   "cell_type": "code",
   "execution_count": 20,
   "metadata": {},
   "outputs": [
    {
     "data": {
      "text/html": [
       "<div>\n",
       "<style scoped>\n",
       "    .dataframe tbody tr th:only-of-type {\n",
       "        vertical-align: middle;\n",
       "    }\n",
       "\n",
       "    .dataframe tbody tr th {\n",
       "        vertical-align: top;\n",
       "    }\n",
       "\n",
       "    .dataframe thead th {\n",
       "        text-align: right;\n",
       "    }\n",
       "</style>\n",
       "<table border=\"1\" class=\"dataframe\">\n",
       "  <thead>\n",
       "    <tr style=\"text-align: right;\">\n",
       "      <th></th>\n",
       "      <th>Close</th>\n",
       "      <th>predictions</th>\n",
       "    </tr>\n",
       "    <tr>\n",
       "      <th>Date</th>\n",
       "      <th></th>\n",
       "      <th></th>\n",
       "    </tr>\n",
       "  </thead>\n",
       "  <tbody>\n",
       "    <tr>\n",
       "      <th>2020-05-27</th>\n",
       "      <td>318.109985</td>\n",
       "      <td>302.794434</td>\n",
       "    </tr>\n",
       "    <tr>\n",
       "      <th>2020-05-28</th>\n",
       "      <td>318.250000</td>\n",
       "      <td>302.726501</td>\n",
       "    </tr>\n",
       "    <tr>\n",
       "      <th>2020-05-29</th>\n",
       "      <td>317.940002</td>\n",
       "      <td>302.769073</td>\n",
       "    </tr>\n",
       "    <tr>\n",
       "      <th>2020-06-01</th>\n",
       "      <td>321.850006</td>\n",
       "      <td>302.698151</td>\n",
       "    </tr>\n",
       "    <tr>\n",
       "      <th>2020-06-02</th>\n",
       "      <td>323.339996</td>\n",
       "      <td>304.304962</td>\n",
       "    </tr>\n",
       "    <tr>\n",
       "      <th>2020-06-03</th>\n",
       "      <td>325.119995</td>\n",
       "      <td>306.260193</td>\n",
       "    </tr>\n",
       "    <tr>\n",
       "      <th>2020-06-04</th>\n",
       "      <td>322.320007</td>\n",
       "      <td>308.234467</td>\n",
       "    </tr>\n",
       "    <tr>\n",
       "      <th>2020-06-05</th>\n",
       "      <td>331.500000</td>\n",
       "      <td>308.142365</td>\n",
       "    </tr>\n",
       "    <tr>\n",
       "      <th>2020-06-08</th>\n",
       "      <td>333.459991</td>\n",
       "      <td>311.437958</td>\n",
       "    </tr>\n",
       "    <tr>\n",
       "      <th>2020-06-09</th>\n",
       "      <td>343.989990</td>\n",
       "      <td>314.807678</td>\n",
       "    </tr>\n",
       "    <tr>\n",
       "      <th>2020-06-10</th>\n",
       "      <td>352.839996</td>\n",
       "      <td>321.166870</td>\n",
       "    </tr>\n",
       "    <tr>\n",
       "      <th>2020-06-11</th>\n",
       "      <td>335.899994</td>\n",
       "      <td>329.033600</td>\n",
       "    </tr>\n",
       "    <tr>\n",
       "      <th>2020-06-12</th>\n",
       "      <td>338.799988</td>\n",
       "      <td>326.294342</td>\n",
       "    </tr>\n",
       "    <tr>\n",
       "      <th>2020-06-15</th>\n",
       "      <td>342.989990</td>\n",
       "      <td>323.313293</td>\n",
       "    </tr>\n",
       "    <tr>\n",
       "      <th>2020-06-16</th>\n",
       "      <td>352.079987</td>\n",
       "      <td>322.943176</td>\n",
       "    </tr>\n",
       "  </tbody>\n",
       "</table>\n",
       "</div>"
      ],
      "text/plain": [
       "                 Close  predictions\n",
       "Date                               \n",
       "2020-05-27  318.109985   302.794434\n",
       "2020-05-28  318.250000   302.726501\n",
       "2020-05-29  317.940002   302.769073\n",
       "2020-06-01  321.850006   302.698151\n",
       "2020-06-02  323.339996   304.304962\n",
       "2020-06-03  325.119995   306.260193\n",
       "2020-06-04  322.320007   308.234467\n",
       "2020-06-05  331.500000   308.142365\n",
       "2020-06-08  333.459991   311.437958\n",
       "2020-06-09  343.989990   314.807678\n",
       "2020-06-10  352.839996   321.166870\n",
       "2020-06-11  335.899994   329.033600\n",
       "2020-06-12  338.799988   326.294342\n",
       "2020-06-15  342.989990   323.313293\n",
       "2020-06-16  352.079987   322.943176"
      ]
     },
     "execution_count": 20,
     "metadata": {},
     "output_type": "execute_result"
    }
   ],
   "source": [
    "#Show the valid and predicted prices\n",
    "\n",
    "valid.tail(15)"
   ]
  },
  {
   "cell_type": "code",
   "execution_count": 21,
   "metadata": {},
   "outputs": [
    {
     "name": "stdout",
     "output_type": "stream",
     "text": [
      "Price of AAPL tomorrow:[[327.12445]]\n"
     ]
    }
   ],
   "source": [
    "#Get the quote\n",
    "stock_quote = web.DataReader(ticker, data_source='yahoo', start='2012-01-01', end=date.today())\n",
    "\n",
    "new_df=stock_quote.filter(['Close'])\n",
    "#Get last 60 days values and convert into array\n",
    "last_60_days=new_df[-60:].values\n",
    "\n",
    "#Scale the data to be values between 0\n",
    "last_60_days_scaled=scaler.transform(last_60_days)\n",
    "\n",
    "#Create an empty list\n",
    "X_test=[]\n",
    "#Appemd the past 60days\n",
    "X_test.append(last_60_days_scaled)\n",
    "\n",
    "#Conver the X_test data into numpy array\n",
    "X_test = np.array(X_test)\n",
    "\n",
    "#Reshape the data\n",
    "X_test = np.reshape(X_test, (X_test.shape[0], X_test.shape[1],1))\n",
    "#Get predicted scaled price\n",
    "pred_price = model.predict(X_test)\n",
    "#undo the scaling\n",
    "pred_price=scaler.inverse_transform(pred_price)\n",
    "print(f'Price of {ticker} tomorrow:{pred_price}')"
   ]
  },
  {
   "cell_type": "code",
   "execution_count": null,
   "metadata": {},
   "outputs": [],
   "source": []
  }
 ],
 "metadata": {
  "kernelspec": {
   "display_name": "Python 3",
   "language": "python",
   "name": "python3"
  },
  "language_info": {
   "codemirror_mode": {
    "name": "ipython",
    "version": 3
   },
   "file_extension": ".py",
   "mimetype": "text/x-python",
   "name": "python",
   "nbconvert_exporter": "python",
   "pygments_lexer": "ipython3",
   "version": "3.6.10"
  }
 },
 "nbformat": 4,
 "nbformat_minor": 4
}
